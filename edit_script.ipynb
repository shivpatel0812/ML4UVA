{
 "cells": [
  {
   "cell_type": "code",
   "execution_count": 1,
   "metadata": {},
   "outputs": [],
   "source": [
    "import pandas as pd"
   ]
  },
  {
   "cell_type": "code",
   "execution_count": 2,
   "metadata": {},
   "outputs": [],
   "source": [
    "df = pd.read_csv(\"community-policing-data.csv\", low_memory=False)\n",
    "df = df.drop(labels=['STOP_DATE', 'LOCATION', 'SPECIFIC VIOLATION', 'VIOLATION TYPE', 'AGENCY NAME', \n",
    "                     'ETHNICITY', 'RESIDENCY', 'VIRGINIA CRIME CODE', 'ADDITIONAL ARREST'], axis=1)"
   ]
  },
  {
   "cell_type": "code",
   "execution_count": 3,
   "metadata": {},
   "outputs": [
    {
     "name": "stdout",
     "output_type": "stream",
     "text": [
      "Column Name: JURISDICTION, Values: ['ROCKINGHAM CO' 'ISLE OF WIGHT CO' 'GOOCHLAND CO' 'SOUTHAMPTON CO'\n",
      " 'NELSON CO' 'SHENANDOAH CO' 'NORTHAMPTON CO' 'AUGUSTA CO' 'TAZEWELL CO'\n",
      " 'MARTINSVILLE' 'PORTSMOUTH' 'FRANKLIN COUNTY' 'CULPEPER CO'\n",
      " 'PRINCE GEORGE CO' 'CAMPBELL CO' 'FAIRFAX CO' 'LOUDOUN CO' 'ACCOMACK CO'\n",
      " 'ALBEMARLE CO' 'ALLEGHANY CO' 'ARLINGTON CO' 'BEDFORD CO' 'BOTETOURT CO'\n",
      " 'BRUNSWICK CO' 'BUCHANAN CO' 'CHESTERFIELD CO' 'CLARKE CO' 'CRAIG CO'\n",
      " 'DICKENSON CO' 'DINWIDDIE CO' 'FAUQUIER CO' 'FLOYD CO' 'FREDERICK CO'\n",
      " 'GILES CO' 'GLOUCESTER CO' 'GRAYSON CO' 'GREENSVILLE CO' 'EMPORIA'\n",
      " 'HALIFAX CO' 'HANOVER CO' 'HENRICO CO' 'HENRY CO' 'JAMES CITY CO'\n",
      " 'KING GEORGE CO' 'KING WILLIAM CO' 'LANCASTER CO' 'FLUVANNA CO'\n",
      " 'MECKLENBURG CO' 'BUCKINGHAM CO' 'CHARLOTTE CO' 'HAMPTON' 'AMHERST CO'\n",
      " 'GREENE CO' 'CUMBERLAND CO' 'NORFOLK' 'LEE CO' 'RUSSELL CO' 'PULASKI CO'\n",
      " 'BRISTOL' 'WISE CO' 'CARROLL CO' 'WASHINGTON CO' 'SCOTT CO' 'YORK CO'\n",
      " 'NEWPORT NEWS' 'CHESAPEAKE' 'VIRGINIA BEACH' 'SUSSEX CO' 'PATRICK CO'\n",
      " 'BATH CO' 'MONTGOMERY CO' 'PITTSYLVANIA CO' 'ROCKBRIDGE CO' 'COVINGTON'\n",
      " 'SALEM' 'ROANOKE CITY' 'ROANOKE CO' 'PRINCE WILLIAM CO' 'ALEXANDRIA'\n",
      " 'PETERSBURG' 'RADFORD' 'RICHMOND CITY' 'STAUNTON' 'SUFFOLK' 'WINCHESTER'\n",
      " 'RICHMOND CO' 'ESSEX CO' 'STAFFORD CO' 'PAGE CO' 'WARREN CO'\n",
      " 'FREDERICKSBURG' 'SPOTSYLVANIA CO' 'HARRISONBURG' 'CAROLINE CO'\n",
      " 'MADISON CO' 'APPOMATTOX CO' 'PRINCE EDWARD CO' 'LUNENBURG CO' 'SMYTH CO'\n",
      " 'WESTMORELAND CO' 'POQUOSON' 'BUENA VISTA' 'CHARLOTTESVILLE'\n",
      " 'COLONIAL HEIGHTS' 'NEW KENT CO' 'POWHATAN CO' 'ORANGE CO' 'SURRY CO'\n",
      " 'DANVILLE' 'FAIRFAX CITY' 'FALLS CHURCH' 'FRANKLIN CITY' 'GALAX'\n",
      " 'HOPEWELL' 'LYNCHBURG' 'LOUISA CO' 'MIDDLESEX CO' 'MANASSAS'\n",
      " 'MANASSAS PARK' 'LEXINGTON' 'HIGHLAND CO' 'WILLIAMSBURG' 'MATHEWS CO'\n",
      " 'NORTHUMBERLAND CO' 'AMELIA CO' 'NORTON' 'BLAND CO' nan 'WYTHE CO'\n",
      " 'WAYNESBORO' 'RAPPAHANNOCK CO' 'NOTTOWAY CO' 'KING AND QUEEN CO'\n",
      " 'CHARLES CITY CO' 'UNKNOWN' '29' '33' '30' '34' '37' '38' '39' '31' '32'\n",
      " '35' '71' '36' '53' '100' '76' '124' '125' '117' '112' '82' '120' '43'\n",
      " '80' '77' '79' '54' '2' '81' '58' '44' '9' '50' '95' '12' '119' '65' '97'\n",
      " '88' '98' '84' '126' '47' '89' '123' '57' '96' '83' '15' '48' '22' '129'\n",
      " '69' '8' '20' '87' '99' '86' '42' '66' '17' '25' '7' '3' '121' '93' '59'\n",
      " '74' '51' '13' '114' '113' '19' '18' '72' '67' '92' '137' '1' '24' '73'\n",
      " '41' '14' '85' '6' '11' '116' '63' '68' '110' '131' '111' '109' '118'\n",
      " '108' '133' '105' '46' '49' '91' '21' '28' '70' '90' '60' '143' '5' '4'\n",
      " '10' '127' '16' '26' '62' '52' '78' '130' '132' '115' '138' '107' '56'\n",
      " '136' '23' '55' '128' '0' '103' '106' '101' '102' '139' '45' '40' '135'\n",
      " '053' '002' '000' '058' '035' '023' '076']\n",
      "Column Name: REASON FOR STOP, Values: ['TRAFFIC VIOLATION' 'EQUIPMENT VIOLATION' nan 'CALLS FOR SERVICE'\n",
      " 'OTHER INVESTIGATIVE DETENTION' 'TERRY STOP' 'CHECK POINT' 'ACCIDENT'\n",
      " 'WARRANT SERVICE']\n",
      "Column Name: PERSON TYPE, Values: [nan 'DRIVER' 'PASSENGER' 'OTHER INDIVIDUAL']\n",
      "Column Name: RACE, Values: ['WHITE' 'BLACK OR AFRICAN AMERICAN' 'UNKNOWN'\n",
      " 'ASIAN OR NATIVE HAWAIIAN OR OTHER PACIFIC ISLANDER'\n",
      " 'AMERICAN INDIAN OR ALASKA NATIVE' nan]\n",
      "Column Name: AGE, Values: [18. 26. 82. 61. 37. 20. 23. 50. 27. 58. 25.  0. 46. 44. 22. 55. 24. 34.\n",
      " 28. 67. 30. 40. 39. 17. 33. 19. 52. 36. 54. 45. 51. 62. 69. 70. 59. 60.\n",
      " 41. 31. 48. 32. 53. 42. 57. 38. 43. 71. 21. 73. 16. 77. 68. 47. 35. 56.\n",
      " 29. 14. 66. 72. 63. 65. 49. 74. 80. 81. 64. 75. 85. 76. 79. 87. 15. 78.\n",
      " 83. 92. 88. 86. 95. 94.  1. 93. 91. 84. 98. 90. nan 13. 96. 89. 99.  9.\n",
      " 11. 12.  3.  2. 97. 10.  5.  7.  8.  6.  4.]\n",
      "Column Name: GENDER, Values: ['MALE' nan 'FEMALE' 'OTHER' 'UNKNOWN']\n",
      "Column Name: ENGLISH SPEAKING, Values: [nan 'YES' 'NO' '44108.47767']\n",
      "Column Name: ACTION TAKEN, Values: ['WARNING ISSUED' 'CITATION/SUMMONS' 'ARREST' 'NO ENFORCEMENT ACTION' nan]\n",
      "Column Name: PERSON SEARCHED, Values: ['NO' nan 'YES']\n",
      "Column Name: VEHICLE SEARCHED, Values: ['NO' nan 'YES']\n",
      "Column Name: FORCE USED BY OFFICER, Values: [nan 'NO' 'Driver' 'YES']\n",
      "Column Name: FORCE USED BY SUBJECT, Values: [nan 'NO' 'YES']\n"
     ]
    }
   ],
   "source": [
    "for column in df.columns:\n",
    "    unique_values = df[column].unique()\n",
    "    if len(unique_values) < 300:\n",
    "        print(\"Column Name: {}, Values: {}\".format(column, unique_values))\n",
    "    else:\n",
    "        print(\"Column Name; {}, # of unique: {}\".format(column, len(unique_values)))"
   ]
  },
  {
   "cell_type": "code",
   "execution_count": 4,
   "metadata": {},
   "outputs": [
    {
     "name": "stdout",
     "output_type": "stream",
     "text": [
      "JURISDICTION                  8\n",
      "REASON FOR STOP           22366\n",
      "PERSON TYPE              958398\n",
      "RACE                         15\n",
      "AGE                          56\n",
      "GENDER                     2906\n",
      "ENGLISH SPEAKING         966913\n",
      "ACTION TAKEN               4214\n",
      "PERSON SEARCHED           24128\n",
      "VEHICLE SEARCHED          28504\n",
      "FORCE USED BY OFFICER    966413\n",
      "FORCE USED BY SUBJECT    966431\n",
      "dtype: int64\n"
     ]
    }
   ],
   "source": [
    "print(df.isna().sum())"
   ]
  },
  {
   "cell_type": "code",
   "execution_count": 5,
   "metadata": {},
   "outputs": [
    {
     "name": "stdout",
     "output_type": "stream",
     "text": [
      "3371015\n",
      "2399180\n",
      "Index(['JURISDICTION', 'REASON FOR STOP', 'PERSON TYPE', 'RACE', 'AGE',\n",
      "       'GENDER', 'ENGLISH SPEAKING', 'ACTION TAKEN', 'PERSON SEARCHED',\n",
      "       'VEHICLE SEARCHED', 'FORCE USED BY OFFICER', 'FORCE USED BY SUBJECT'],\n",
      "      dtype='object')\n"
     ]
    }
   ],
   "source": [
    "print(df.shape[0])\n",
    "df = df.dropna()\n",
    "print(df.shape[0])\n",
    "df = df[~df.isin(['unknown']).any(axis=1)]\n",
    "df = df[df['AGE'] >= 18]\n",
    "print(df.columns)"
   ]
  },
  {
   "cell_type": "code",
   "execution_count": 6,
   "metadata": {},
   "outputs": [
    {
     "name": "stdout",
     "output_type": "stream",
     "text": [
      "Column Name: JURISDICTION, Values: ['CULPEPER CO' 'AUGUSTA CO' 'FREDERICK CO' 'FAIRFAX CO' 'FAUQUIER CO'\n",
      " 'LOUDOUN CO' 'PRINCE WILLIAM CO' 'ALEXANDRIA' 'ESSEX CO' 'HANOVER CO'\n",
      " 'HENRICO CO' 'GREENSVILLE CO' 'FRANKLIN COUNTY' 'CLARKE CO' 'EMPORIA'\n",
      " 'FLOYD CO' 'FLUVANNA CO' 'CRAIG CO' 'DINWIDDIE CO' 'CUMBERLAND CO'\n",
      " 'GILES CO' 'GRAYSON CO' 'HALIFAX CO' 'GLOUCESTER CO' 'ARLINGTON CO'\n",
      " 'GOOCHLAND CO' 'GREENE CO' 'DICKENSON CO' 'LYNCHBURG' 'YORK CO' 'NORFOLK'\n",
      " 'STAUNTON' 'VIRGINIA BEACH' 'NORTON' 'BRISTOL' 'CAROLINE CO'\n",
      " 'NORTHAMPTON CO' 'SUFFOLK' 'SPOTSYLVANIA CO' 'AMELIA CO'\n",
      " 'PITTSYLVANIA CO' 'PRINCE EDWARD CO' 'ROANOKE CO' 'PULASKI CO'\n",
      " 'AMHERST CO' 'SURRY CO' 'BATH CO' 'WYTHE CO' 'BEDFORD CO' 'WISE CO'\n",
      " 'RICHMOND CO' 'SMYTH CO' 'PRINCE GEORGE CO' 'SCOTT CO' 'MONTGOMERY CO'\n",
      " 'CHESAPEAKE' 'CAMPBELL CO' 'ORANGE CO' 'POWHATAN CO' 'LOUISA CO'\n",
      " 'ALBEMARLE CO' 'ROCKINGHAM CO' 'BRUNSWICK CO' 'JAMES CITY CO'\n",
      " 'SOUTHAMPTON CO' 'MECKLENBURG CO' 'PAGE CO' 'SHENANDOAH CO' 'HENRY CO'\n",
      " 'NEW KENT CO' 'WAYNESBORO' 'CARROLL CO' 'CHARLES CITY CO' 'MADISON CO'\n",
      " 'NEWPORT NEWS' 'TAZEWELL CO' 'DANVILLE' 'WARREN CO' 'ALLEGHANY CO'\n",
      " 'POQUOSON' 'RICHMOND CITY' 'WESTMORELAND CO' 'CHESTERFIELD CO'\n",
      " 'RUSSELL CO' 'STAFFORD CO' 'BUCKINGHAM CO' 'RADFORD' 'WILLIAMSBURG'\n",
      " 'PORTSMOUTH' 'FREDERICKSBURG' 'GALAX' 'PETERSBURG' 'HAMPTON'\n",
      " 'ROANOKE CITY' 'BOTETOURT CO' 'KING GEORGE CO' 'KING AND QUEEN CO'\n",
      " 'APPOMATTOX CO' 'HARRISONBURG' 'NELSON CO' 'SALEM' 'LANCASTER CO'\n",
      " 'WASHINGTON CO' 'ISLE OF WIGHT CO' 'MIDDLESEX CO' 'NOTTOWAY CO'\n",
      " 'MATHEWS CO' 'CHARLOTTESVILLE' 'PATRICK CO' 'BUCHANAN CO' 'BLAND CO'\n",
      " 'SUSSEX CO' 'HIGHLAND CO' 'HOPEWELL' 'NORTHUMBERLAND CO' 'ACCOMACK CO'\n",
      " 'KING WILLIAM CO' 'ROCKBRIDGE CO' 'FAIRFAX CITY' 'COLONIAL HEIGHTS'\n",
      " 'LEE CO' '29' '33' '30' '34' '37' '38' '39' 'BUENA VISTA' '31'\n",
      " 'MARTINSVILLE' 'LEXINGTON' '32' '35' '71' '36' 'FALLS CHURCH' '53' '100'\n",
      " '76' '124' '125' '117' '112' '120' '82' '43' '80' '77' '79' '54' '2' '81'\n",
      " '58' '44' '9' '95' '12' '119' '65' '88' '98' '84' '126' '47' '89' '123'\n",
      " '57' '96' '83' '15' '48' '22' '129' '69' '8' '20' '99' '86' '42' '66'\n",
      " '17' '25' '7' '3' '121' '93' '74' '51' '13' '114' '59' '113' '18' '67'\n",
      " '72' '92' '137' '50' '1' '24' '73' '41' '14' '85' '11' '19' '116' '63'\n",
      " '68' '110' '131' '111' '109' '118' '108' '133' '105' '46' '49' '91' '21'\n",
      " '97' '28' '70' '90' '60' '143' '5' '4' '10' '127' '16' '87' '26' '62'\n",
      " '52' '78' '130' 'COVINGTON' '132' '115' '138' '107' '56' '136' '23'\n",
      " 'FRANKLIN CITY' '55' '128' 'CHARLOTTE CO' 'RAPPAHANNOCK CO' 'WINCHESTER'\n",
      " '0' '103' 'LUNENBURG CO' '6' 'MANASSAS PARK' 'MANASSAS' '106' '101' '102'\n",
      " '139' '45' '40' '135' '053' '002' '000' '058' '035' '023' '076']\n",
      "Column Name: REASON FOR STOP, Values: ['TRAFFIC VIOLATION' 'CALLS FOR SERVICE' 'EQUIPMENT VIOLATION'\n",
      " 'TERRY STOP' 'OTHER INVESTIGATIVE DETENTION' 'CHECK POINT' 'ACCIDENT'\n",
      " 'WARRANT SERVICE']\n",
      "Column Name: PERSON TYPE, Values: ['DRIVER' 'PASSENGER' 'OTHER INDIVIDUAL']\n",
      "Column Name: RACE, Values: ['WHITE' 'BLACK OR AFRICAN AMERICAN'\n",
      " 'ASIAN OR NATIVE HAWAIIAN OR OTHER PACIFIC ISLANDER'\n",
      " 'AMERICAN INDIAN OR ALASKA NATIVE' 'UNKNOWN']\n",
      "Column Name: AGE, Values: [28. 54. 30. 23. 22. 35. 19. 40. 33. 18. 50. 24. 55. 58. 38. 29. 46. 47.\n",
      " 44. 42. 81. 20. 27. 63. 31. 21. 25. 62. 34. 80. 66. 39. 41. 61. 43. 36.\n",
      " 37. 45. 68. 74. 53. 49. 32. 57. 82. 26. 52. 73. 76. 48. 67. 56. 83. 51.\n",
      " 64. 70. 78. 60. 77. 59. 65. 71. 72. 85. 89. 69. 75. 96. 86. 99. 79. 88.\n",
      " 87. 84. 90. 93. 95. 94. 91. 92. 98. 97.]\n",
      "Column Name: GENDER, Values: ['FEMALE' 'MALE' 'OTHER' 'UNKNOWN']\n",
      "Column Name: ENGLISH SPEAKING, Values: ['YES' 'NO']\n",
      "Column Name: ACTION TAKEN, Values: ['WARNING ISSUED' 'ARREST' 'NO ENFORCEMENT ACTION' 'CITATION/SUMMONS']\n",
      "Column Name: PERSON SEARCHED, Values: ['NO' 'YES']\n",
      "Column Name: VEHICLE SEARCHED, Values: ['NO' 'YES']\n",
      "Column Name: FORCE USED BY OFFICER, Values: ['NO' 'YES']\n",
      "Column Name: FORCE USED BY SUBJECT, Values: ['NO' 'YES']\n"
     ]
    }
   ],
   "source": [
    "for column in df.columns:\n",
    "    unique_values = df[column].unique()\n",
    "    if len(unique_values) < 300:\n",
    "        print(\"Column Name: {}, Values: {}\".format(column, unique_values))\n",
    "    else:\n",
    "        print(\"Column Name; {}, # of unique: {}\".format(column, len(unique_values)))"
   ]
  },
  {
   "cell_type": "code",
   "execution_count": 7,
   "metadata": {},
   "outputs": [
    {
     "name": "stdout",
     "output_type": "stream",
     "text": [
      "0\n"
     ]
    }
   ],
   "source": [
    "names_to_codes = {\n",
    "    'ACCOMACK CO': '001', 'ALBEMARLE CO': '002', 'ALEXANDRIA': '100', 'ALLEGHANY CO': '003', 'AMELIA CO': '004',\n",
    "    'AMHERST CO': '005', 'APPOMATTOX CO': '006', 'ARLINGTON CO': '000', 'AUGUSTA CO': '007', 'BATH CO': '008',\n",
    "    'BEDFORD CO': '009', 'BLAND CO': '010', 'BOTETOURT CO': '011', 'BRISTOL': '101', 'BRUNSWICK CO': '012',\n",
    "    'BUCHANAN CO': '013', 'BUCKINGHAM CO': '014', 'BUENA VISTA': '102', 'CAMPBELL CO': '015', 'CAROLINE CO': '016',\n",
    "    'CARROLL CO': '017', 'CHARLES CITY CO': '018', 'CHARLOTTE CO': '019', 'CHARLOTTESVILLE': '103', 'CHESAPEAKE': '126',\n",
    "    'CHESTERFIELD CO': '020', 'CLARKE CO': '021', 'COLONIAL HEIGHTS': '105', 'COVINGTON': '106', 'CRAIG CO': '022',\n",
    "    'CULPEPER CO': '023', 'CUMBERLAND CO': '024', 'DANVILLE': '107', 'DICKENSON CO': '025', 'DINWIDDIE CO': '026',\n",
    "    'EMPORIA': '135', 'ESSEX CO': '028', 'FAIRFAX CITY': '132', 'FAIRFAX CO': '029', 'FALLS CHURCH': '108',\n",
    "    'FAUQUIER CO': '030', 'FLOYD CO': '031', 'FLUVANNA CO': '032', 'FRANKLIN CITY': '133', 'FRANKLIN CO': '033',\n",
    "    'FREDERICK CO': '034', 'FREDERICKSBURG': '109', 'GALAX': '110', 'GILES CO': '035', 'GLOUCESTER CO': '036',\n",
    "    'GOOCHLAND CO': '037', 'GRAYSON CO': '038', 'GREENE CO': '039', 'GREENSVILLE CO': '040', 'HALIFAX CO': '041',\n",
    "    'HAMPTON': '111', 'HANOVER CO': '042', 'HARRISONBURG': '112', 'HENRICO CO': '043', 'HENRY CO': '044',\n",
    "    'HIGHLAND CO': '045', 'HOPEWELL': '113', 'ISLE OF WIGHT CO': '046', 'JAMES CITY CO': '047', 'KING AND QUEEN CO': '049',\n",
    "    'KING GEORGE CO': '048', 'KING WILLIAM CO': '050', 'LANCASTER CO': '051', 'LEE CO': '052', 'LEXINGTON': '136',\n",
    "    'LOUDOUN CO': '053', 'LOUISA CO': '054', 'LUNENBURG CO': '055', 'LYNCHBURG': '114', 'MADISON CO': '056',\n",
    "    'MANASSAS': '138', 'MANASSAS PARK': '139', 'MARTINSVILLE': '115', 'MATHEWS CO': '057', 'MECKLENBURG CO': '058',\n",
    "    'MIDDLESEX CO': '059', 'MONTGOMERY CO': '060', 'NELSON CO': '062', 'NEW KENT CO': '063', 'NEWPORT NEWS': '116',\n",
    "    'NORFOLK': '117', 'NORTHAMPTON CO': '065', 'NORTHUMBERLAND CO': '066', 'NORTON': '130', 'NOTTOWAY CO': '067',\n",
    "    'ORANGE CO': '068', 'PAGE CO': '069', 'PATRICK CO': '070', 'PETERSBURG': '118', 'PITTSYLVANIA CO': '071',\n",
    "    'POQUOSON': '143', 'PORTSMOUTH': '119', 'POWHATAN CO': '072', 'PRINCE EDWARD CO': '073', 'PRINCE GEORGE CO': '074',\n",
    "    'PRINCE WILLIAM CO': '076', 'PULASKI CO': '077', 'RADFORD': '131', 'RAPPAHANNOCK CO': '078', 'RICHMOND CITY': '120',\n",
    "    'RICHMOND CO': '079', 'ROANOKE CITY': '121', 'ROANOKE CO': '080', 'ROCKBRIDGE CO': '081', 'ROCKINGHAM CO': '082',\n",
    "    'RUSSELL CO': '083', 'SALEM': '137', 'SCOTT CO': '084', 'SHENANDOAH CO': '085', 'SMYTH CO': '086', 'SOUTHAMPTON CO': '087',\n",
    "    'SPOTSYLVANIA CO': '088', 'STAFFORD CO': '089', 'STAUNTON': '123', 'SUFFOLK': '124', 'SURRY CO': '090',\n",
    "    'SUSSEX CO': '091', 'TAZEWELL CO': '092', 'VIRGINIA BEACH': '125', 'WARREN CO': '093', 'WASHINGTON CO': '095',\n",
    "    'WAYNESBORO': '127', 'WESTMORELAND CO': '096', 'WILLIAMSBURG': '128', 'WINCHESTER': '129', 'WISE CO': '097',\n",
    "    'WYTHE CO': '098', 'YORK CO': '099',\n",
    "}\n",
    "\n",
    "names_to_codes_no_zeros = {key: value.lstrip('0') for key, value in names_to_codes.items()}\n",
    "names_to_codes_no_zeros['ARLINGTON CO'] = '0'\n",
    "print(names_to_codes_no_zeros['ARLINGTON CO'])"
   ]
  },
  {
   "cell_type": "code",
   "execution_count": 8,
   "metadata": {},
   "outputs": [
    {
     "name": "stdout",
     "output_type": "stream",
     "text": [
      "Column Name: JURISDICTION, Values: ['CULPEPER CO' 'AUGUSTA CO' 'FREDERICK CO' 'FAIRFAX CO' 'FAUQUIER CO'\n",
      " 'LOUDOUN CO' 'PRINCE WILLIAM CO' 'ALEXANDRIA' 'ESSEX CO' 'HANOVER CO'\n",
      " 'HENRICO CO' 'GREENSVILLE CO' 'FRANKLIN COUNTY' 'CLARKE CO' 'EMPORIA'\n",
      " 'FLOYD CO' 'FLUVANNA CO' 'CRAIG CO' 'DINWIDDIE CO' 'CUMBERLAND CO'\n",
      " 'GILES CO' 'GRAYSON CO' 'HALIFAX CO' 'GLOUCESTER CO' 'ARLINGTON CO'\n",
      " 'GOOCHLAND CO' 'GREENE CO' 'DICKENSON CO' 'LYNCHBURG' 'YORK CO' 'NORFOLK'\n",
      " 'STAUNTON' 'VIRGINIA BEACH' 'NORTON' 'BRISTOL' 'CAROLINE CO'\n",
      " 'NORTHAMPTON CO' 'SUFFOLK' 'SPOTSYLVANIA CO' 'AMELIA CO'\n",
      " 'PITTSYLVANIA CO' 'PRINCE EDWARD CO' 'ROANOKE CO' 'PULASKI CO'\n",
      " 'AMHERST CO' 'SURRY CO' 'BATH CO' 'WYTHE CO' 'BEDFORD CO' 'WISE CO'\n",
      " 'RICHMOND CO' 'SMYTH CO' 'PRINCE GEORGE CO' 'SCOTT CO' 'MONTGOMERY CO'\n",
      " 'CHESAPEAKE' 'CAMPBELL CO' 'ORANGE CO' 'POWHATAN CO' 'LOUISA CO'\n",
      " 'ALBEMARLE CO' 'ROCKINGHAM CO' 'BRUNSWICK CO' 'JAMES CITY CO'\n",
      " 'SOUTHAMPTON CO' 'MECKLENBURG CO' 'PAGE CO' 'SHENANDOAH CO' 'HENRY CO'\n",
      " 'NEW KENT CO' 'WAYNESBORO' 'CARROLL CO' 'CHARLES CITY CO' 'MADISON CO'\n",
      " 'NEWPORT NEWS' 'TAZEWELL CO' 'DANVILLE' 'WARREN CO' 'ALLEGHANY CO'\n",
      " 'POQUOSON' 'RICHMOND CITY' 'WESTMORELAND CO' 'CHESTERFIELD CO'\n",
      " 'RUSSELL CO' 'STAFFORD CO' 'BUCKINGHAM CO' 'RADFORD' 'WILLIAMSBURG'\n",
      " 'PORTSMOUTH' 'FREDERICKSBURG' 'GALAX' 'PETERSBURG' 'HAMPTON'\n",
      " 'ROANOKE CITY' 'BOTETOURT CO' 'KING GEORGE CO' 'KING AND QUEEN CO'\n",
      " 'APPOMATTOX CO' 'HARRISONBURG' 'NELSON CO' 'SALEM' 'LANCASTER CO'\n",
      " 'WASHINGTON CO' 'ISLE OF WIGHT CO' 'MIDDLESEX CO' 'NOTTOWAY CO'\n",
      " 'MATHEWS CO' 'CHARLOTTESVILLE' 'PATRICK CO' 'BUCHANAN CO' 'BLAND CO'\n",
      " 'SUSSEX CO' 'HIGHLAND CO' 'HOPEWELL' 'NORTHUMBERLAND CO' 'ACCOMACK CO'\n",
      " 'KING WILLIAM CO' 'ROCKBRIDGE CO' 'FAIRFAX CITY' 'COLONIAL HEIGHTS'\n",
      " 'LEE CO' 'FRANKLIN CO' 'BUENA VISTA' 'MARTINSVILLE' 'LEXINGTON'\n",
      " 'FALLS CHURCH' 'WINCHESTER' 'CHARLOTTE CO' 'FRANKLIN CITY'\n",
      " 'RAPPAHANNOCK CO' 'COVINGTON' 'MANASSAS' 'LUNENBURG CO' 'MANASSAS PARK']\n",
      "Column Name: REASON FOR STOP, Values: ['TRAFFIC VIOLATION' 'CALLS FOR SERVICE' 'EQUIPMENT VIOLATION'\n",
      " 'TERRY STOP' 'OTHER INVESTIGATIVE DETENTION' 'CHECK POINT' 'ACCIDENT'\n",
      " 'WARRANT SERVICE']\n",
      "Column Name: PERSON TYPE, Values: ['DRIVER' 'PASSENGER' 'OTHER INDIVIDUAL']\n",
      "Column Name: RACE, Values: ['WHITE' 'BLACK OR AFRICAN AMERICAN'\n",
      " 'ASIAN OR NATIVE HAWAIIAN OR OTHER PACIFIC ISLANDER'\n",
      " 'AMERICAN INDIAN OR ALASKA NATIVE' 'UNKNOWN']\n",
      "Column Name: AGE, Values: [28. 54. 30. 23. 22. 35. 19. 40. 33. 18. 50. 24. 55. 58. 38. 29. 46. 47.\n",
      " 44. 42. 81. 20. 27. 63. 31. 21. 25. 62. 34. 80. 66. 39. 41. 61. 43. 36.\n",
      " 37. 45. 68. 74. 53. 49. 32. 57. 82. 26. 52. 73. 76. 48. 67. 56. 83. 51.\n",
      " 64. 70. 78. 60. 77. 59. 65. 71. 72. 85. 89. 69. 75. 96. 86. 99. 79. 88.\n",
      " 87. 84. 90. 93. 95. 94. 91. 92. 98. 97.]\n",
      "Column Name: GENDER, Values: ['FEMALE' 'MALE' 'OTHER' 'UNKNOWN']\n",
      "Column Name: ENGLISH SPEAKING, Values: ['YES' 'NO']\n",
      "Column Name: ACTION TAKEN, Values: ['WARNING ISSUED' 'ARREST' 'NO ENFORCEMENT ACTION' 'CITATION/SUMMONS']\n",
      "Column Name: PERSON SEARCHED, Values: ['NO' 'YES']\n",
      "Column Name: VEHICLE SEARCHED, Values: ['NO' 'YES']\n",
      "Column Name: FORCE USED BY OFFICER, Values: ['NO' 'YES']\n",
      "Column Name: FORCE USED BY SUBJECT, Values: ['NO' 'YES']\n"
     ]
    }
   ],
   "source": [
    "codes_to_names = {v: k for k, v in names_to_codes_no_zeros.items()}\n",
    "for key, value in names_to_codes.items():\n",
    "    if value not in codes_to_names:\n",
    "        codes_to_names[value] = key\n",
    "df['JURISDICTION'] = df['JURISDICTION'].replace(codes_to_names)\n",
    "\n",
    "for column in df.columns:\n",
    "    unique_values = df[column].unique()\n",
    "    if len(unique_values) < 300:\n",
    "        print(\"Column Name: {}, Values: {}\".format(column, unique_values))\n",
    "    else:\n",
    "        print(\"Column Name; {}, # of unique: {}\".format(column, len(unique_values)))\n",
    "\n",
    "df.to_csv(\"fixed_csv.csv\", index=False)"
   ]
  }
 ],
 "metadata": {
  "kernelspec": {
   "display_name": "ml_class_venv",
   "language": "python",
   "name": "python3"
  },
  "language_info": {
   "codemirror_mode": {
    "name": "ipython",
    "version": 3
   },
   "file_extension": ".py",
   "mimetype": "text/x-python",
   "name": "python",
   "nbconvert_exporter": "python",
   "pygments_lexer": "ipython3",
   "version": "3.12.1"
  }
 },
 "nbformat": 4,
 "nbformat_minor": 2
}
