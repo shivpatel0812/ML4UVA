{
 "cells": [
  {
   "cell_type": "code",
   "execution_count": 1,
   "metadata": {},
   "outputs": [],
   "source": [
    "import pandas as pd"
   ]
  },
  {
   "cell_type": "code",
   "execution_count": 2,
   "metadata": {},
   "outputs": [],
   "source": [
    "df = pd.read_csv(\"fixed_csv.csv\", low_memory=False)\n"
   ]
  },
  {
   "cell_type": "code",
   "execution_count": 4,
   "metadata": {},
   "outputs": [
    {
     "name": "stdout",
     "output_type": "stream",
     "text": [
      "Index(['REASON FOR STOP_ACCIDENT', 'REASON FOR STOP_CALLS FOR SERVICE',\n",
      "       'REASON FOR STOP_CHECK POINT', 'REASON FOR STOP_EQUIPMENT VIOLATION',\n",
      "       'REASON FOR STOP_OTHER INVESTIGATIVE DETENTION',\n",
      "       'REASON FOR STOP_TERRY STOP', 'REASON FOR STOP_TRAFFIC VIOLATION',\n",
      "       'REASON FOR STOP_WARRANT SERVICE',\n",
      "       'RACE_AMERICAN INDIAN OR ALASKA NATIVE',\n",
      "       'RACE_ASIAN OR NATIVE HAWAIIAN OR OTHER PACIFIC ISLANDER',\n",
      "       'RACE_BLACK OR AFRICAN AMERICAN', 'RACE_UNKNOWN', 'RACE_WHITE',\n",
      "       'GENDER_FEMALE', 'GENDER_MALE', 'GENDER_OTHER', 'GENDER_UNKNOWN',\n",
      "       'ENGLISH SPEAKING_NO', 'ENGLISH SPEAKING_YES', 'ACTION TAKEN_ARREST',\n",
      "       'ACTION TAKEN_CITATION/SUMMONS', 'ACTION TAKEN_NO ENFORCEMENT ACTION',\n",
      "       'ACTION TAKEN_WARNING ISSUED', 'PERSON SEARCHED_NO',\n",
      "       'PERSON SEARCHED_YES', 'VEHICLE SEARCHED_NO', 'VEHICLE SEARCHED_YES',\n",
      "       'FORCE USED BY OFFICER_NO', 'FORCE USED BY OFFICER_YES',\n",
      "       'FORCE USED BY SUBJECT_NO', 'FORCE USED BY SUBJECT_YES'],\n",
      "      dtype='object')\n"
     ]
    }
   ],
   "source": [
    "dropped_df = df.drop(labels=['JURISDICTION', 'AGE', 'PERSON TYPE'], axis=1)\n",
    "encoded_df = pd.get_dummies(dropped_df, list(dropped_df.columns))\n",
    "print(encoded_df.columns)"
   ]
  },
  {
   "cell_type": "code",
   "execution_count": 5,
   "metadata": {},
   "outputs": [],
   "source": [
    "from mlxtend.frequent_patterns import apriori, association_rules\n",
    "\n",
    "frequent_itemsets = apriori(df=encoded_df, min_support=1e-3, use_colnames=True)\n",
    "rules = association_rules(frequent_itemsets, metric=\"confidence\", min_threshold=1e-3)"
   ]
  },
  {
   "cell_type": "code",
   "execution_count": 17,
   "metadata": {},
   "outputs": [],
   "source": [
    "\n",
    "desired_antecedents = {'RACE_AMERICAN INDIAN OR ALASKA NATIVE',\n",
    "       'RACE_ASIAN OR NATIVE HAWAIIAN OR OTHER PACIFIC ISLANDER',\n",
    "       'RACE_BLACK OR AFRICAN AMERICAN', 'RACE_WHITE', 'GENDER_MALE', 'GENDER_FEMALE'}\n",
    "desired_consequents = {'ACTION TAKEN_ARREST'}\n",
    "filtered_rules = rules[\n",
    "    rules['consequents'].apply(lambda x: any(item in desired_consequents for item in x))\n",
    "]\n",
    "filtered_rules_race = filtered_rules[\n",
    "    filtered_rules['antecedents'].apply(lambda x: len(x) == 1 and list(x)[0] in desired_antecedents)\n",
    "]"
   ]
  },
  {
   "cell_type": "code",
   "execution_count": 22,
   "metadata": {},
   "outputs": [],
   "source": [
    "desired_antecedents = {'REASON FOR STOP_ACCIDENT', 'REASON FOR STOP_CALLS FOR SERVICE',\n",
    "       'REASON FOR STOP_CHECK POINT', 'REASON FOR STOP_EQUIPMENT VIOLATION',\n",
    "       'REASON FOR STOP_OTHER INVESTIGATIVE DETENTION',\n",
    "       'REASON FOR STOP_TERRY STOP', 'REASON FOR STOP_TRAFFIC VIOLATION',\n",
    "       'REASON FOR STOP_WARRANT SERVICE'}\n",
    "desired_consequents = {'ACTION TAKEN_ARREST'}\n",
    "filtered_rules = rules[\n",
    "    rules['consequents'].apply(lambda x: len(x) == 1 and list(x)[0] in desired_consequents)\n",
    "]\n",
    "filtered_rules_stop_reason = filtered_rules[\n",
    "    filtered_rules['antecedents'].apply(lambda x: len(x) == 1 and list(x)[0] in desired_antecedents)\n",
    "]"
   ]
  },
  {
   "cell_type": "code",
   "execution_count": 24,
   "metadata": {},
   "outputs": [],
   "source": [
    "desired_antecedents = {'RACE_AMERICAN INDIAN OR ALASKA NATIVE',\n",
    "       'RACE_ASIAN OR NATIVE HAWAIIAN OR OTHER PACIFIC ISLANDER',\n",
    "       'RACE_BLACK OR AFRICAN AMERICAN', 'RACE_WHITE', 'GENDER_MALE', 'GENDER_FEMALE'}\n",
    "desired_consequents = {'ACTION TAKEN_ARREST'}\n",
    "filtered_rules = rules[\n",
    "    rules['consequents'].apply(lambda x: len(x) == 1 and list(x)[0] in desired_consequents)\n",
    "]\n",
    "filtered_rules_race_gender = filtered_rules[\n",
    "    filtered_rules['antecedents'].apply(lambda x: len(x) == 2 and list(x)[0] in desired_antecedents and list(x)[1] in desired_antecedents)\n",
    "]"
   ]
  },
  {
   "cell_type": "code",
   "execution_count": 25,
   "metadata": {},
   "outputs": [],
   "source": [
    "filtered_rules_race_gender.to_csv(\"filtered_rules_race_gender.csv\", index=False)"
   ]
  },
  {
   "cell_type": "code",
   "execution_count": 23,
   "metadata": {},
   "outputs": [],
   "source": [
    "filtered_rules_stop_reason.to_csv(\"filtered_rules_by_stop_reason.csv\", index=False)"
   ]
  },
  {
   "cell_type": "code",
   "execution_count": null,
   "metadata": {},
   "outputs": [],
   "source": [
    "filtered_rules_race.to_csv(\"filtered_rules_by_race_3.csv\", index=False)"
   ]
  },
  {
   "cell_type": "code",
   "execution_count": 13,
   "metadata": {},
   "outputs": [
    {
     "data": {
      "text/html": [
       "<div>\n",
       "<style scoped>\n",
       "    .dataframe tbody tr th:only-of-type {\n",
       "        vertical-align: middle;\n",
       "    }\n",
       "\n",
       "    .dataframe tbody tr th {\n",
       "        vertical-align: top;\n",
       "    }\n",
       "\n",
       "    .dataframe thead th {\n",
       "        text-align: right;\n",
       "    }\n",
       "</style>\n",
       "<table border=\"1\" class=\"dataframe\">\n",
       "  <thead>\n",
       "    <tr style=\"text-align: right;\">\n",
       "      <th></th>\n",
       "      <th>antecedents</th>\n",
       "      <th>consequents</th>\n",
       "      <th>antecedent support</th>\n",
       "      <th>consequent support</th>\n",
       "      <th>support</th>\n",
       "      <th>confidence</th>\n",
       "      <th>lift</th>\n",
       "      <th>leverage</th>\n",
       "      <th>conviction</th>\n",
       "      <th>zhangs_metric</th>\n",
       "    </tr>\n",
       "  </thead>\n",
       "  <tbody>\n",
       "    <tr>\n",
       "      <th>222</th>\n",
       "      <td>(RACE_BLACK OR AFRICAN AMERICAN)</td>\n",
       "      <td>(ACTION TAKEN_ARREST)</td>\n",
       "      <td>0.298914</td>\n",
       "      <td>0.031471</td>\n",
       "      <td>0.013123</td>\n",
       "      <td>0.043901</td>\n",
       "      <td>1.39498</td>\n",
       "      <td>0.003716</td>\n",
       "      <td>1.013001</td>\n",
       "      <td>0.403864</td>\n",
       "    </tr>\n",
       "    <tr>\n",
       "      <th>270</th>\n",
       "      <td>(RACE_WHITE)</td>\n",
       "      <td>(ACTION TAKEN_ARREST)</td>\n",
       "      <td>0.632120</td>\n",
       "      <td>0.031471</td>\n",
       "      <td>0.017339</td>\n",
       "      <td>0.027429</td>\n",
       "      <td>0.87158</td>\n",
       "      <td>-0.002555</td>\n",
       "      <td>0.995845</td>\n",
       "      <td>-0.285977</td>\n",
       "    </tr>\n",
       "  </tbody>\n",
       "</table>\n",
       "</div>"
      ],
      "text/plain": [
       "                          antecedents            consequents  \\\n",
       "222  (RACE_BLACK OR AFRICAN AMERICAN)  (ACTION TAKEN_ARREST)   \n",
       "270                      (RACE_WHITE)  (ACTION TAKEN_ARREST)   \n",
       "\n",
       "     antecedent support  consequent support   support  confidence     lift  \\\n",
       "222            0.298914            0.031471  0.013123    0.043901  1.39498   \n",
       "270            0.632120            0.031471  0.017339    0.027429  0.87158   \n",
       "\n",
       "     leverage  conviction  zhangs_metric  \n",
       "222  0.003716    1.013001       0.403864  \n",
       "270 -0.002555    0.995845      -0.285977  "
      ]
     },
     "execution_count": 13,
     "metadata": {},
     "output_type": "execute_result"
    }
   ],
   "source": [
    "filtered_rules_race.head()"
   ]
  }
 ],
 "metadata": {
  "kernelspec": {
   "display_name": "ml_class_venv",
   "language": "python",
   "name": "python3"
  },
  "language_info": {
   "codemirror_mode": {
    "name": "ipython",
    "version": 3
   },
   "file_extension": ".py",
   "mimetype": "text/x-python",
   "name": "python",
   "nbconvert_exporter": "python",
   "pygments_lexer": "ipython3",
   "version": "3.12.1"
  }
 },
 "nbformat": 4,
 "nbformat_minor": 2
}
